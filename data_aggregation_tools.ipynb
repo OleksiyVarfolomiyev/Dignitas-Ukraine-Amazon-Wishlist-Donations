{
 "cells": [
  {
   "cell_type": "code",
   "execution_count": 16,
   "metadata": {},
   "outputs": [],
   "source": [
    "import pandas as pd\n",
    "import datetime as dt"
   ]
  },
  {
   "cell_type": "code",
   "execution_count": 17,
   "metadata": {},
   "outputs": [],
   "source": [
    "def sum_acc_by_date(account_name, period, data, category):\n",
    "    return pd.DataFrame(data[((\n",
    "            data[category] == account_name))]['Cost'].groupby(\n",
    "            data['Date'].dt.to_period(period)).sum().reset_index(name = account_name))\n",
    "\n",
    "\n",
    "def sum_by_period_by_account_name(account_names, period, data, category):\n",
    "    data_frames = []\n",
    "    for account_name in account_names:\n",
    "        data_frames.append(\n",
    "            sum_acc_by_date(account_name, period, data, category)\n",
    "            )    \n",
    "    from functools import reduce\n",
    "    return reduce(lambda left, right: pd.merge(left, right, on='Date', how='outer'), data_frames)"
   ]
  },
  {
   "cell_type": "code",
   "execution_count": 18,
   "metadata": {},
   "outputs": [],
   "source": [
    "def sum_by_period(data, col, period):\n",
    "    return pd.DataFrame(data[col].groupby(data['Date'].dt.to_period(period)).sum())"
   ]
  }
 ],
 "metadata": {
  "kernelspec": {
   "display_name": "base",
   "language": "python",
   "name": "python3"
  },
  "language_info": {
   "codemirror_mode": {
    "name": "ipython",
    "version": 3
   },
   "file_extension": ".py",
   "mimetype": "text/x-python",
   "name": "python",
   "nbconvert_exporter": "python",
   "pygments_lexer": "ipython3",
   "version": "3.10.9"
  },
  "orig_nbformat": 4
 },
 "nbformat": 4,
 "nbformat_minor": 2
}
