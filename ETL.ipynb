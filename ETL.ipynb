{
 "cells": [
  {
   "cell_type": "code",
   "execution_count": 31,
   "metadata": {},
   "outputs": [],
   "source": [
    "import pandas as pd"
   ]
  },
  {
   "cell_type": "code",
   "execution_count": 32,
   "metadata": {},
   "outputs": [],
   "source": [
    "def format_money(value):\n",
    "    return '${:,.0f}'.format(float(value))"
   ]
  },
  {
   "cell_type": "code",
   "execution_count": 33,
   "metadata": {},
   "outputs": [],
   "source": [
    "def read_data(nrows = None):\n",
    "    dtypes = {'Name' : 'str', 'Product': 'str', 'Quantity' : 'int', 'Cost' : 'str'}\n",
    "    df = pd.read_csv('data/Amazon Wishlist - In-Kind Gift - Data.csv', \n",
    "                     usecols=['Date', 'Product', 'Quantity', 'Cost', 'Name'],\n",
    "                     dtype=dtypes, parse_dates=['Date'])\n",
    "    df.Cost = df['Cost'].str.strip('$').astype(float)\n",
    "    return df"
   ]
  },
  {
   "cell_type": "code",
   "execution_count": 34,
   "metadata": {},
   "outputs": [],
   "source": [
    "def extract_relevant_txs(df, start_date, end_date):\n",
    "    \"\"\"Main category mapping module\"\"\"\n",
    "    if (start_date != None) | (end_date != None):\n",
    "        df = df[df['Date'].dt.date >= start_date.date()]\n",
    "        df = df[df['Date'].dt.date <= end_date.date()]\n",
    "\n",
    "    values_to_check = ['Lifestraw', 'Water Tables']\n",
    "    condition = df['Product'].str.contains('|'.join(values_to_check), case=False)\n",
    "    df.loc[condition, 'Product'] = 'Water Purification'\n",
    "    return df\n"
   ]
  },
  {
   "cell_type": "code",
   "execution_count": 35,
   "metadata": {},
   "outputs": [],
   "source": [
    "def extract_top_donors(df):\n",
    "    \"\"\"Extract top donors\"\"\"\n",
    "    top_donors = pd.DataFrame(df.groupby('Name')[['Total Cost', 'Quantity', ]].sum().sort_values(by='Total Cost', ascending=False).head(5))\n",
    "    top_donors['Quantity'] = top_donors['Quantity'].astype(int)\n",
    "    top_donors['Total Cost'] = top_donors['Total Cost'].map(format_money)\n",
    "    return top_donors\n",
    "    "
   ]
  }
 ],
 "metadata": {
  "kernelspec": {
   "display_name": "base",
   "language": "python",
   "name": "python3"
  },
  "language_info": {
   "codemirror_mode": {
    "name": "ipython",
    "version": 3
   },
   "file_extension": ".py",
   "mimetype": "text/x-python",
   "name": "python",
   "nbconvert_exporter": "python",
   "pygments_lexer": "ipython3",
   "version": "3.10.9"
  }
 },
 "nbformat": 4,
 "nbformat_minor": 2
}
